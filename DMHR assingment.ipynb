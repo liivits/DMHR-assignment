{
 "cells": [
  {
   "cell_type": "markdown",
   "metadata": {},
   "source": [
    "Dow"
   ]
  },
  {
   "cell_type": "code",
   "execution_count": null,
   "metadata": {},
   "outputs": [],
   "source": [
    "# Import package\n",
    "from urllib.request import urlretrieve\n",
    "# Import pandas\n",
    "import pandas as pd\n",
    "\n",
    "# Assign url of file: url\n",
    "url = 'https://files.digital.nhs.uk/33/8F8C1E/T201807CHEM%20SUBS.CSV'\n",
    "\n",
    "# Save file locally\n",
    "urlretrieve(url,'T201807CHEM%20SUBS.CSV')\n",
    "\n",
    "# Read file into a DataFrame and print its head\n",
    "df = pd.read_csv('T201807CHEM%20SUBS.CSV', sep=';')\n",
    "print(df.head())"
   ]
  },
  {
   "cell_type": "code",
   "execution_count": null,
   "metadata": {},
   "outputs": [],
   "source": []
  },
  {
   "cell_type": "code",
   "execution_count": 3,
   "metadata": {},
   "outputs": [],
   "source": [
    "# Import package\n",
    "from urllib.request import urlretrieve\n",
    "# Import pandas\n",
    "import pandas as pd\n",
    "\n",
    "# Assign url of file: url\n",
    "url = 'https://files.digital.nhs.uk/35/5860FD/T201807ADDR%20BNFT.CSV'\n",
    "\n",
    "# Save file locally\n",
    "urlretrieve(url,'T201807ADDR%20BNFT.CSV')\n",
    "cols = [ \n",
    "    'timePeriod', \n",
    "    'practice_code', \n",
    "    'practice_name', \n",
    "    'practice_organization', \n",
    "    'street', \n",
    "    'city', \n",
    "    'area', \n",
    "    'postcode' \n",
    "]\n",
    "# Read file into a DataFrame and print its head\n",
    "df = pd.read_csv('T201807ADDR%20BNFT.CSV',names = cols, index_col=0)"
   ]
  },
  {
   "cell_type": "code",
   "execution_count": 4,
   "metadata": {},
   "outputs": [
    {
     "data": {
      "text/plain": [
       "Index(['practice_code', 'practice_name', 'practice_organization', 'street',\n",
       "       'city', 'area', 'postcode'],\n",
       "      dtype='object')"
      ]
     },
     "execution_count": 4,
     "metadata": {},
     "output_type": "execute_result"
    }
   ],
   "source": [
    "df.columns"
   ]
  },
  {
   "cell_type": "code",
   "execution_count": 5,
   "metadata": {},
   "outputs": [
    {
     "data": {
      "text/html": [
       "<div>\n",
       "<style scoped>\n",
       "    .dataframe tbody tr th:only-of-type {\n",
       "        vertical-align: middle;\n",
       "    }\n",
       "\n",
       "    .dataframe tbody tr th {\n",
       "        vertical-align: top;\n",
       "    }\n",
       "\n",
       "    .dataframe thead th {\n",
       "        text-align: right;\n",
       "    }\n",
       "</style>\n",
       "<table border=\"1\" class=\"dataframe\">\n",
       "  <thead>\n",
       "    <tr style=\"text-align: right;\">\n",
       "      <th></th>\n",
       "      <th>practice_code</th>\n",
       "      <th>practice_name</th>\n",
       "      <th>practice_organization</th>\n",
       "      <th>street</th>\n",
       "      <th>city</th>\n",
       "      <th>area</th>\n",
       "      <th>postcode</th>\n",
       "    </tr>\n",
       "    <tr>\n",
       "      <th>timePeriod</th>\n",
       "      <th></th>\n",
       "      <th></th>\n",
       "      <th></th>\n",
       "      <th></th>\n",
       "      <th></th>\n",
       "      <th></th>\n",
       "      <th></th>\n",
       "    </tr>\n",
       "  </thead>\n",
       "  <tbody>\n",
       "    <tr>\n",
       "      <th>201807</th>\n",
       "      <td>A81001</td>\n",
       "      <td>THE DENSHAM SURGERY</td>\n",
       "      <td>THE HEALTH CENTRE</td>\n",
       "      <td>LAWSON STREET</td>\n",
       "      <td>STOCKTON-ON-TEES</td>\n",
       "      <td>CLEVELAND</td>\n",
       "      <td>TS18 1HU</td>\n",
       "    </tr>\n",
       "    <tr>\n",
       "      <th>201807</th>\n",
       "      <td>A81002</td>\n",
       "      <td>QUEENS PARK MEDICAL CENTRE</td>\n",
       "      <td>QUEENS PARK MEDICAL CTR</td>\n",
       "      <td>FARRER STREET</td>\n",
       "      <td>STOCKTON ON TEES</td>\n",
       "      <td>CLEVELAND</td>\n",
       "      <td>TS18 2AW</td>\n",
       "    </tr>\n",
       "    <tr>\n",
       "      <th>201807</th>\n",
       "      <td>A81004</td>\n",
       "      <td>BLUEBELL MEDICAL CENTRE</td>\n",
       "      <td>TRIMDON AVENUE</td>\n",
       "      <td>ACKLAM</td>\n",
       "      <td>MIDDLESBROUGH</td>\n",
       "      <td></td>\n",
       "      <td>TS5 8SB</td>\n",
       "    </tr>\n",
       "    <tr>\n",
       "      <th>201807</th>\n",
       "      <td>A81005</td>\n",
       "      <td>SPRINGWOOD SURGERY</td>\n",
       "      <td>SPRINGWOOD SURGERY</td>\n",
       "      <td>RECTORY LANE</td>\n",
       "      <td>GUISBOROUGH</td>\n",
       "      <td></td>\n",
       "      <td>TS14 7DJ</td>\n",
       "    </tr>\n",
       "    <tr>\n",
       "      <th>201807</th>\n",
       "      <td>A81006</td>\n",
       "      <td>TENNANT STREET MEDICAL PRACTICE</td>\n",
       "      <td>TENNANT ST MEDICAL PRACT</td>\n",
       "      <td>TENNANT STREET</td>\n",
       "      <td>STOCKTON-ON-TEES</td>\n",
       "      <td>CLEVELAND</td>\n",
       "      <td>TS18 2AT</td>\n",
       "    </tr>\n",
       "  </tbody>\n",
       "</table>\n",
       "</div>"
      ],
      "text/plain": [
       "           practice_code                             practice_name  \\\n",
       "timePeriod                                                           \n",
       "201807            A81001  THE DENSHAM SURGERY                        \n",
       "201807            A81002  QUEENS PARK MEDICAL CENTRE                 \n",
       "201807            A81004  BLUEBELL MEDICAL CENTRE                    \n",
       "201807            A81005  SPRINGWOOD SURGERY                         \n",
       "201807            A81006  TENNANT STREET MEDICAL PRACTICE            \n",
       "\n",
       "                practice_organization                     street  \\\n",
       "timePeriod                                                         \n",
       "201807      THE HEALTH CENTRE          LAWSON STREET               \n",
       "201807      QUEENS PARK MEDICAL CTR    FARRER STREET               \n",
       "201807      TRIMDON AVENUE             ACKLAM                      \n",
       "201807      SPRINGWOOD SURGERY         RECTORY LANE                \n",
       "201807      TENNANT ST MEDICAL PRACT   TENNANT STREET              \n",
       "\n",
       "                                 city                       area  postcode  \n",
       "timePeriod                                                                  \n",
       "201807      STOCKTON-ON-TEES           CLEVELAND                  TS18 1HU  \n",
       "201807      STOCKTON ON TEES           CLEVELAND                  TS18 2AW  \n",
       "201807      MIDDLESBROUGH                                         TS5 8SB   \n",
       "201807      GUISBOROUGH                                           TS14 7DJ  \n",
       "201807      STOCKTON-ON-TEES           CLEVELAND                  TS18 2AT  "
      ]
     },
     "execution_count": 5,
     "metadata": {},
     "output_type": "execute_result"
    }
   ],
   "source": [
    "df.head()"
   ]
  },
  {
   "cell_type": "code",
   "execution_count": 6,
   "metadata": {},
   "outputs": [
    {
     "name": "stdout",
     "output_type": "stream",
     "text": [
      "   SHA,PCT,PRACTICE,BNF CODE,BNF NAME                                    ,ITEMS  ,NIC        ,ACT COST   ,QUANTITY,PERIOD,                 \n",
      "0  Q44,RTV,Y04937,0204000R0AAAHAH,Propranolol HCl...                                                                                       \n",
      "1  Q44,RTV,Y04937,0304010W0AAALAL,Promethazine HC...                                                                                       \n",
      "2  Q44,RTV,Y04937,0401010Y0AAABAB,Zolpidem Tart_T...                                                                                       \n",
      "3  Q44,RTV,Y04937,0401010Z0AAAAAA,Zopiclone_Tab 7...                                                                                       \n",
      "4  Q44,RTV,Y04937,0401020B0AAAAAA,Buspirone HCl_T...                                                                                       \n"
     ]
    }
   ],
   "source": [
    "# Import package\n",
    "from urllib.request import urlretrieve\n",
    "# Import pandas\n",
    "import pandas as pd\n",
    "\n",
    "# Assign url of file: url\n",
    "url = 'https://files.digital.nhs.uk/68/345AA6/T201807PDPI%20BNFT.CSV'\n",
    "\n",
    "# Save file locally\n",
    "urlretrieve(url,'T201807PDPI%20BNFT.CSV')\n",
    "\n",
    "# Read file into a DataFrame and print its head\n",
    "df = pd.read_csv('T201807PDPI%20BNFT.CSV', sep=';')\n",
    "print(df.head())\n"
   ]
  },
  {
   "cell_type": "code",
   "execution_count": null,
   "metadata": {},
   "outputs": [],
   "source": []
  }
 ],
 "metadata": {
  "kernelspec": {
   "display_name": "Python 3",
   "language": "python",
   "name": "python3"
  },
  "language_info": {
   "codemirror_mode": {
    "name": "ipython",
    "version": 3
   },
   "file_extension": ".py",
   "mimetype": "text/x-python",
   "name": "python",
   "nbconvert_exporter": "python",
   "pygments_lexer": "ipython3",
   "version": "3.6.5"
  }
 },
 "nbformat": 4,
 "nbformat_minor": 2
}
